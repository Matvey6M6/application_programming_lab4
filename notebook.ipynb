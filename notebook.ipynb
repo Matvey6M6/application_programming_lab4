{
 "cells": [
  {
   "attachments": {},
   "cell_type": "markdown",
   "metadata": {},
   "source": [
    "## Четвертая лабораторная работа по ПП"
   ]
  },
  {
   "cell_type": "code",
   "execution_count": null,
   "metadata": {
    "tags": []
   },
   "outputs": [],
   "source": [
    "import main \n",
    "import pandas as pd\n",
    "from matplotlib import pyplot as plt"
   ]
  },
  {
   "attachments": {},
   "cell_type": "markdown",
   "metadata": {},
   "source": [
    "## Первый и второй пункты\n",
    "1. С использованием средств библиотеки Pandas прочитать все данные (в DataFrame будет несколько столбцов, в зависимости от варианта, например, у варианта 10 - Количество звезд, Текст рецензии).\n",
    "2. Произвести именование колонок сформированного DataFrame в соответствии с рекомендациями, полученными на соответствующей лекции."
   ]
  },
  {
   "cell_type": "code",
   "execution_count": null,
   "metadata": {},
   "outputs": [],
   "source": [
    "columns = ['mark', 'text_of_comment', 'num_of_words']\n",
    "    \n",
    "dataset_path = main.GetDatasetPath()\n",
    "dataframe = main.GetDataframe(dataset_path)\n",
    "print(dataframe)"
   ]
  },
  {
   "attachments": {},
   "cell_type": "markdown",
   "metadata": {},
   "source": [
    "## Третий пункт\n",
    "Произвести проверку на наличие невалидных значений в колонках (NaN, None и т.п.). В случае нахождения выполнить обработку таких значений."
   ]
  },
  {
   "cell_type": "code",
   "execution_count": null,
   "metadata": {},
   "outputs": [],
   "source": [
    "if(main.CheckNan(dataframe, columns[0])):\n",
    "        print('Внутри датасета обнаружены и удалены значения Nan')\n",
    "        dataframe.dropna() "
   ]
  },
  {
   "attachments": {},
   "cell_type": "markdown",
   "metadata": {},
   "source": [
    "## Четвертый пункт\n",
    "Добавить в DataFrame столбец, который будет содержать информацию о кол-ве слов в ячейке, содержащей текстовую информацию."
   ]
  },
  {
   "cell_type": "code",
   "execution_count": null,
   "metadata": {},
   "outputs": [],
   "source": [
    "count_word = main.CountWords(dataframe, columns[1])\n",
    "dataframe[columns[2]] = pd.Series(count_word)\n",
    "print(dataframe)"
   ]
  },
  {
   "attachments": {},
   "cell_type": "markdown",
   "metadata": {},
   "source": [
    "## Пятый пункт\n",
    "С использованием Pandas вычислить статистическую информацию для столбцов, содержащих числовую информацию."
   ]
  },
  {
   "cell_type": "code",
   "execution_count": null,
   "metadata": {},
   "outputs": [],
   "source": [
    "stat = dataframe[columns[2]].describe()\n",
    "print(stat)"
   ]
  },
  {
   "attachments": {},
   "cell_type": "markdown",
   "metadata": {},
   "source": [
    "## Шестой пункт\n",
    "Написать функцию, которая на вход принимает DataFrame и количество слов, а возвращает отфильтрованный по количеству слов DataFrame. Условие фильтрации - в новый DataFrame включаются те строки, для которых значение в столбце с количеством слов ≤ заданного значения."
   ]
  },
  {
   "cell_type": "code",
   "execution_count": null,
   "metadata": {},
   "outputs": [],
   "source": [
    "df_words_filtered = pd.DataFrame(dataframe[dataframe[columns[2]] >= 10])\n",
    "\n",
    "print(df_words_filtered)"
   ]
  },
  {
   "attachments": {},
   "cell_type": "markdown",
   "metadata": {},
   "source": [
    "## Седьмой пункт\n",
    "Написать функцию, которая на вход принимает DataFrame и метку класса (например, Количество звезд), а возвращает отфильтрованный по заданной метке DataFrame."
   ]
  },
  {
   "cell_type": "code",
   "execution_count": null,
   "metadata": {},
   "outputs": [],
   "source": [
    "reviews_mark_1 = pd.DataFrame(dataframe[dataframe[columns[0]] == '1'])\n",
    "\n",
    "    \n",
    "print(reviews_mark_1)"
   ]
  },
  {
   "attachments": {},
   "cell_type": "markdown",
   "metadata": {},
   "source": [
    "## Восьмой пункт\n",
    "Выполнить группировку DataFrame по метке класса с вычислением максимального, минимального и среднего значения по количеству слов."
   ]
  },
  {
   "cell_type": "code",
   "execution_count": null,
   "metadata": {},
   "outputs": [],
   "source": [
    "data = list()\n",
    "for i in range(1,6):\n",
    "    rewiews_words = pd.DataFrame(df_words_filtered[df_words_filtered[columns[0]] == str(i)])\n",
    "    stat = main.StatInfo(rewiews_words, columns[2])\n",
    "    print(f'\\nДля оценки {i}:\\n')\n",
    "    print('Минимальное кол-во слов:', stat['min'])\n",
    "    print('Максимальное кол-во слов:', stat['max'])\n",
    "    print('Среднее кол-во слов:', stat['mean'])"
   ]
  },
  {
   "cell_type": "code",
   "execution_count": null,
   "metadata": {},
   "outputs": [],
   "source": [
    "stat_1 = main.StatInfo(reviews_mark_1, columns[2])\n",
    "print('\\nДля оценки 1:\\n')\n",
    "print('Минимальное кол-во слов:', stat_1['min'])\n",
    "print('Максимальное кол-во слов:', stat_1['max'])\n",
    "print('Среднее кол-во слов:', stat_1['mean'])"
   ]
  },
  {
   "attachments": {},
   "cell_type": "markdown",
   "metadata": {},
   "source": [
    "## Девятый пункт\n",
    "Написать функцию, которая на вход принимает DataFrame и метку класса, а возвращает гистограмму для слов. Для расчета гистограммы необходимо будет разбить блоки текста на слова и выполнить процедуру лемматизации для каждого слова ."
   ]
  },
  {
   "cell_type": "code",
   "execution_count": null,
   "metadata": {},
   "outputs": [],
   "source": [
    "lemmatized_class = main.LemmalizeClass(dataframe, columns[1], '4')"
   ]
  },
  {
   "attachments": {},
   "cell_type": "markdown",
   "metadata": {},
   "source": [
    "## Десятый пункт\n",
    "Выполнить визуализацию гистограммы, полученной из пункта 9, с помощью средств библиотеки matplotlib. Соответствующие оси, графики и значения необходимо подписать."
   ]
  },
  {
   "cell_type": "code",
   "execution_count": null,
   "metadata": {},
   "outputs": [],
   "source": [
    "fig = plt.figure(figsize=(20,10))\n",
    "ax = fig.add_subplot()\n",
    "\n",
    "ax.bar(list(lemmatized_class.keys()), lemmatized_class.values(), color='g')\n",
    "\n",
    "plt.show()"
   ]
  }
 ],
 "metadata": {
  "kernelspec": {
   "display_name": "Python 3",
   "language": "python",
   "name": "python3"
  },
  "language_info": {
   "name": "python",
   "version": "3.9.13 (main, May 19 2022, 07:22:26)  [GCC 11.3.0 64 bit (AMD64)]"
  },
  "orig_nbformat": 4,
  "vscode": {
   "interpreter": {
    "hash": "2a8dfe095fce2b5e88c64a2c3ee084c8e0e0d70b23e7b95b1cfb538be294c5c8"
   }
  }
 },
 "nbformat": 4,
 "nbformat_minor": 2
}
